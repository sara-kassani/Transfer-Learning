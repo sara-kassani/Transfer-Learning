{
 "cells": [
  {
   "cell_type": "markdown",
   "metadata": {},
   "source": [
    "# CIFAR10 Transfer Learning based Classifier\n",
    "\n",
    "This notebook outlines the steps to build a classifier to leverage concepts of Transfer Learning by utilizing a pretrained Deep-CNN. \n",
    "Particularly in this case based on VGG16"
   ]
  },
  {
   "cell_type": "code",
   "execution_count": 0,
   "metadata": {
    "colab": {
     "autoexec": {
      "startup": false,
      "wait_interval": 0
     }
    },
    "colab_type": "code",
    "collapsed": true,
    "id": "qpwpUhVod2ob"
   },
   "outputs": [],
   "source": [
    "# Pandas and Numpy for data structures and util fucntions\n",
    "import scipy as sp\n",
    "import numpy as np\n",
    "import pandas as pd\n",
    "from numpy.random import rand\n",
    "pd.options.display.max_colwidth = 600\n",
    "\n",
    "# Scikit Imports\n",
    "from sklearn import preprocessing\n",
    "from sklearn.metrics import roc_curve, auc, precision_recall_curve\n",
    "from sklearn.model_selection import train_test_split\n",
    "\n",
    "import cnn_utils as utils\n",
    "\n",
    "# Matplot Imports\n",
    "import matplotlib.pyplot as plt\n",
    "params = {'legend.fontsize': 'x-large',\n",
    "          'figure.figsize': (15, 5),\n",
    "          'axes.labelsize': 'x-large',\n",
    "          'axes.titlesize':'x-large',\n",
    "          'xtick.labelsize':'x-large',\n",
    "          'ytick.labelsize':'x-large'}\n",
    "\n",
    "plt.rcParams.update(params)\n",
    "%matplotlib inline\n",
    "\n",
    "# pandas display data frames as tables\n",
    "from IPython.display import display, HTML\n",
    "\n",
    "import warnings\n",
    "warnings.filterwarnings('ignore')"
   ]
  },
  {
   "cell_type": "code",
   "execution_count": 2,
   "metadata": {
    "colab": {
     "autoexec": {
      "startup": false,
      "wait_interval": 0
     },
     "base_uri": "https://localhost:8080/",
     "height": 34
    },
    "colab_type": "code",
    "executionInfo": {
     "elapsed": 1669,
     "status": "ok",
     "timestamp": 1531341784750,
     "user": {
      "displayName": "Raghav Bali",
      "photoUrl": "//lh4.googleusercontent.com/-HPass-4Bl9U/AAAAAAAAAAI/AAAAAAAAKiI/A0BQ8MHwVME/s50-c-k-no/photo.jpg",
      "userId": "117317575176939780509"
     },
     "user_tz": -330
    },
    "id": "VB1artr2KuLD",
    "outputId": "295301d0-a703-4793-fbc9-74c200f15189"
   },
   "outputs": [
    {
     "name": "stderr",
     "output_type": "stream",
     "text": [
      "Using TensorFlow backend.\n"
     ]
    }
   ],
   "source": [
    "import tensorflow as tf\n",
    "from keras import callbacks\n",
    "from keras import optimizers\n",
    "from keras.datasets import cifar10\n",
    "from keras.engine import Model\n",
    "from keras.applications import vgg16 as vgg\n",
    "from keras.layers import Dropout, Flatten, Dense, GlobalAveragePooling2D,BatchNormalization\n",
    "from keras.preprocessing.image import ImageDataGenerator\n",
    "from keras.utils import np_utils"
   ]
  },
  {
   "cell_type": "markdown",
   "metadata": {},
   "source": [
    "## Load and Prepare DataSet"
   ]
  },
  {
   "cell_type": "code",
   "execution_count": 0,
   "metadata": {
    "colab": {
     "autoexec": {
      "startup": false,
      "wait_interval": 0
     }
    },
    "colab_type": "code",
    "collapsed": true,
    "id": "fS8uGXn5dgRU"
   },
   "outputs": [],
   "source": [
    "BATCH_SIZE = 32\n",
    "EPOCHS = 40\n",
    "NUM_CLASSES = 10\n",
    "LEARNING_RATE = 1e-4\n",
    "MOMENTUM = 0.9"
   ]
  },
  {
   "cell_type": "code",
   "execution_count": 0,
   "metadata": {
    "colab": {
     "autoexec": {
      "startup": false,
      "wait_interval": 0
     }
    },
    "colab_type": "code",
    "collapsed": true,
    "id": "PoT9P1phLuyT"
   },
   "outputs": [],
   "source": [
    "(X_train, y_train), (X_test, y_test) = cifar10.load_data()"
   ]
  },
  {
   "cell_type": "markdown",
   "metadata": {},
   "source": [
    "Split training dataset in train and validation sets"
   ]
  },
  {
   "cell_type": "code",
   "execution_count": 0,
   "metadata": {
    "colab": {
     "autoexec": {
      "startup": false,
      "wait_interval": 0
     }
    },
    "colab_type": "code",
    "collapsed": true,
    "id": "khNrl8nHqesu"
   },
   "outputs": [],
   "source": [
    "X_train, X_val, y_train, y_val = train_test_split(X_train, \n",
    "                                                  y_train, \n",
    "                                                  test_size=0.15, \n",
    "                                                  stratify=np.array(y_train), \n",
    "                                                  random_state=42)"
   ]
  },
  {
   "cell_type": "markdown",
   "metadata": {},
   "source": [
    "Transform target variable/labels into one hot encoded form"
   ]
  },
  {
   "cell_type": "code",
   "execution_count": 0,
   "metadata": {
    "colab": {
     "autoexec": {
      "startup": false,
      "wait_interval": 0
     }
    },
    "colab_type": "code",
    "collapsed": true,
    "id": "IJdZ6DLUqu-P"
   },
   "outputs": [],
   "source": [
    "Y_train = np_utils.to_categorical(y_train, NUM_CLASSES)\n",
    "Y_val = np_utils.to_categorical(y_val, NUM_CLASSES)\n",
    "Y_test = np_utils.to_categorical(y_test, NUM_CLASSES)"
   ]
  },
  {
   "cell_type": "markdown",
   "metadata": {},
   "source": [
    "### Preprocessing\n",
    "\n",
    "Since we are about to use VGG16 as a feature extractor, the minimum size of an image it takes is 48x48.\n",
    "We utilize ```scipy`` to resize images to required dimensions"
   ]
  },
  {
   "cell_type": "code",
   "execution_count": 0,
   "metadata": {
    "colab": {
     "autoexec": {
      "startup": false,
      "wait_interval": 0
     }
    },
    "colab_type": "code",
    "collapsed": true,
    "id": "6udZF8zHbTaR"
   },
   "outputs": [],
   "source": [
    "X_train = np.array([sp.misc.imresize(x, \n",
    "                                     (48, 48)) for x in X_train])\n",
    "X_val = np.array([sp.misc.imresize(x, \n",
    "                                   (48, 48)) for x in X_val])\n",
    "X_test = np.array([sp.misc.imresize(x, \n",
    "                                    (48, 48)) for x in X_test])"
   ]
  },
  {
   "cell_type": "markdown",
   "metadata": {},
   "source": [
    "## Prepare the Model\n",
    "\n",
    "* Load VGG16 without the top classification layer\n",
    "* Prepare a custom classifier\n",
    "* Stack both models on top of each other"
   ]
  },
  {
   "cell_type": "code",
   "execution_count": 0,
   "metadata": {
    "colab": {
     "autoexec": {
      "startup": false,
      "wait_interval": 0
     }
    },
    "colab_type": "code",
    "collapsed": true,
    "id": "j2py7602Kxlq"
   },
   "outputs": [],
   "source": [
    "base_model = vgg.VGG16(weights='imagenet', \n",
    "                       include_top=False, \n",
    "                       input_shape=(48, 48, 3))"
   ]
  },
  {
   "cell_type": "code",
   "execution_count": 0,
   "metadata": {
    "colab": {
     "autoexec": {
      "startup": false,
      "wait_interval": 0
     }
    },
    "colab_type": "code",
    "collapsed": true,
    "id": "iI9P8ni-L8H8"
   },
   "outputs": [],
   "source": [
    "# Extract the last layer from third block of vgg16 model\n",
    "last = base_model.get_layer('block3_pool').output"
   ]
  },
  {
   "cell_type": "code",
   "execution_count": 0,
   "metadata": {
    "colab": {
     "autoexec": {
      "startup": false,
      "wait_interval": 0
     }
    },
    "colab_type": "code",
    "collapsed": true,
    "id": "MI90lh6hL9ua"
   },
   "outputs": [],
   "source": [
    "# Add classification layers on top of it\n",
    "x = GlobalAveragePooling2D()(last)\n",
    "x= BatchNormalization()(x)\n",
    "x = Dense(256, activation='relu')(x)\n",
    "x = Dense(256, activation='relu')(x)\n",
    "x = Dropout(0.6)(x)\n",
    "pred = Dense(NUM_CLASSES, activation='softmax')(x)\n",
    "model = Model(base_model.input, pred)"
   ]
  },
  {
   "cell_type": "markdown",
   "metadata": {},
   "source": [
    "Since our objective is to only train the custom classifier, we freeze the layers of VGG16"
   ]
  },
  {
   "cell_type": "code",
   "execution_count": 0,
   "metadata": {
    "colab": {
     "autoexec": {
      "startup": false,
      "wait_interval": 0
     }
    },
    "colab_type": "code",
    "collapsed": true,
    "id": "fc3EhfLTMD4I"
   },
   "outputs": [],
   "source": [
    "for layer in base_model.layers:\n",
    "     layer.trainable = False"
   ]
  },
  {
   "cell_type": "code",
   "execution_count": 0,
   "metadata": {
    "colab": {
     "autoexec": {
      "startup": false,
      "wait_interval": 0
     }
    },
    "colab_type": "code",
    "collapsed": true,
    "id": "PRXPI3DCMIIK"
   },
   "outputs": [],
   "source": [
    "model.compile(loss='binary_crossentropy',\n",
    "              optimizer=optimizers.Adam(lr=LEARNING_RATE),\n",
    "              metrics=['accuracy'])"
   ]
  },
  {
   "cell_type": "code",
   "execution_count": 13,
   "metadata": {
    "colab": {
     "autoexec": {
      "startup": false,
      "wait_interval": 0
     },
     "base_uri": "https://localhost:8080/",
     "height": 714
    },
    "colab_type": "code",
    "executionInfo": {
     "elapsed": 814,
     "status": "ok",
     "timestamp": 1531341814064,
     "user": {
      "displayName": "Raghav Bali",
      "photoUrl": "//lh4.googleusercontent.com/-HPass-4Bl9U/AAAAAAAAAAI/AAAAAAAAKiI/A0BQ8MHwVME/s50-c-k-no/photo.jpg",
      "userId": "117317575176939780509"
     },
     "user_tz": -330
    },
    "id": "PATZIBLlMLrf",
    "outputId": "f9a4ac68-9261-46d8-a7c9-9e15cfcf5631"
   },
   "outputs": [
    {
     "name": "stdout",
     "output_type": "stream",
     "text": [
      "_________________________________________________________________\n",
      "Layer (type)                 Output Shape              Param #   \n",
      "=================================================================\n",
      "input_1 (InputLayer)         (None, 48, 48, 3)         0         \n",
      "_________________________________________________________________\n",
      "block1_conv1 (Conv2D)        (None, 48, 48, 64)        1792      \n",
      "_________________________________________________________________\n",
      "block1_conv2 (Conv2D)        (None, 48, 48, 64)        36928     \n",
      "_________________________________________________________________\n",
      "block1_pool (MaxPooling2D)   (None, 24, 24, 64)        0         \n",
      "_________________________________________________________________\n",
      "block2_conv1 (Conv2D)        (None, 24, 24, 128)       73856     \n",
      "_________________________________________________________________\n",
      "block2_conv2 (Conv2D)        (None, 24, 24, 128)       147584    \n",
      "_________________________________________________________________\n",
      "block2_pool (MaxPooling2D)   (None, 12, 12, 128)       0         \n",
      "_________________________________________________________________\n",
      "block3_conv1 (Conv2D)        (None, 12, 12, 256)       295168    \n",
      "_________________________________________________________________\n",
      "block3_conv2 (Conv2D)        (None, 12, 12, 256)       590080    \n",
      "_________________________________________________________________\n",
      "block3_conv3 (Conv2D)        (None, 12, 12, 256)       590080    \n",
      "_________________________________________________________________\n",
      "block3_pool (MaxPooling2D)   (None, 6, 6, 256)         0         \n",
      "_________________________________________________________________\n",
      "global_average_pooling2d_1 ( (None, 256)               0         \n",
      "_________________________________________________________________\n",
      "batch_normalization_1 (Batch (None, 256)               1024      \n",
      "_________________________________________________________________\n",
      "dense_1 (Dense)              (None, 256)               65792     \n",
      "_________________________________________________________________\n",
      "dense_2 (Dense)              (None, 256)               65792     \n",
      "_________________________________________________________________\n",
      "dropout_1 (Dropout)          (None, 256)               0         \n",
      "_________________________________________________________________\n",
      "dense_3 (Dense)              (None, 10)                2570      \n",
      "=================================================================\n",
      "Total params: 1,870,666\n",
      "Trainable params: 134,666\n",
      "Non-trainable params: 1,736,000\n",
      "_________________________________________________________________\n"
     ]
    }
   ],
   "source": [
    "model.summary()"
   ]
  },
  {
   "cell_type": "markdown",
   "metadata": {},
   "source": [
    "## Data Augmentation\n",
    "\n",
    "To help model generalize and overcome the limitations of a small dataset, we prepare augmented datasets using \n",
    "```keras ``` utilities"
   ]
  },
  {
   "cell_type": "code",
   "execution_count": 0,
   "metadata": {
    "colab": {
     "autoexec": {
      "startup": false,
      "wait_interval": 0
     }
    },
    "colab_type": "code",
    "collapsed": true,
    "id": "_Y-jNseQMNcf"
   },
   "outputs": [],
   "source": [
    "# prepare data augmentation configuration\n",
    "train_datagen = ImageDataGenerator(\n",
    "    rescale=1. / 255,\n",
    "    horizontal_flip=False)"
   ]
  },
  {
   "cell_type": "code",
   "execution_count": 0,
   "metadata": {
    "colab": {
     "autoexec": {
      "startup": false,
      "wait_interval": 0
     }
    },
    "colab_type": "code",
    "collapsed": true,
    "id": "mHPmLOf-N3SQ"
   },
   "outputs": [],
   "source": [
    "train_datagen.fit(X_train)\n",
    "train_generator = train_datagen.flow(X_train,\n",
    "                                     Y_train, \n",
    "                                     batch_size=BATCH_SIZE)"
   ]
  },
  {
   "cell_type": "code",
   "execution_count": 0,
   "metadata": {
    "colab": {
     "autoexec": {
      "startup": false,
      "wait_interval": 0
     }
    },
    "colab_type": "code",
    "collapsed": true,
    "id": "JSIJycdbrBWK"
   },
   "outputs": [],
   "source": [
    "val_datagen = ImageDataGenerator(rescale=1. / 255,\n",
    "    horizontal_flip=False)\n",
    "\n",
    "val_datagen.fit(X_val)\n",
    "val_generator = val_datagen.flow(X_val,\n",
    "                                 Y_val,\n",
    "                                 batch_size=BATCH_SIZE)"
   ]
  },
  {
   "cell_type": "markdown",
   "metadata": {},
   "source": [
    "## Train the Model"
   ]
  },
  {
   "cell_type": "code",
   "execution_count": 17,
   "metadata": {
    "colab": {
     "autoexec": {
      "startup": false,
      "wait_interval": 0
     },
     "base_uri": "https://localhost:8080/",
     "height": 1397
    },
    "colab_type": "code",
    "executionInfo": {
     "elapsed": 1291407,
     "status": "ok",
     "timestamp": 1531343114582,
     "user": {
      "displayName": "Raghav Bali",
      "photoUrl": "//lh4.googleusercontent.com/-HPass-4Bl9U/AAAAAAAAAAI/AAAAAAAAKiI/A0BQ8MHwVME/s50-c-k-no/photo.jpg",
      "userId": "117317575176939780509"
     },
     "user_tz": -330
    },
    "id": "upzna-SWcdVK",
    "outputId": "a3acb1f3-4ed8-45c6-d026-0e9707df282b",
    "scrolled": false
   },
   "outputs": [
    {
     "name": "stdout",
     "output_type": "stream",
     "text": [
      "Epoch 1/40\n",
      "1328/1328 [==============================] - 33s 25ms/step - loss: 0.2495 - acc: 0.9094 - val_loss: 0.1866 - val_acc: 0.9277\n",
      "Epoch 2/40\n",
      " 726/1328 [===============>..............] - ETA: 12s - loss: 0.2001 - acc: 0.92311328/1328 [==============================] - 32s 24ms/step - loss: 0.1955 - acc: 0.9248 - val_loss: 0.1640 - val_acc: 0.9369\n",
      "Epoch 3/40\n",
      "1119/1328 [========================>.....] - ETA: 4s - loss: 0.1774 - acc: 0.93121328/1328 [==============================] - 32s 24ms/step - loss: 0.1773 - acc: 0.9312 - val_loss: 0.1520 - val_acc: 0.9411\n",
      "Epoch 4/40\n",
      "1246/1328 [===========================>..] - ETA: 1s - loss: 0.1664 - acc: 0.93531328/1328 [==============================] - 32s 24ms/step - loss: 0.1662 - acc: 0.9354 - val_loss: 0.1444 - val_acc: 0.9441\n",
      "Epoch 5/40\n",
      "1317/1328 [============================>.] - ETA: 0s - loss: 0.1580 - acc: 0.93851328/1328 [==============================] - 32s 24ms/step - loss: 0.1579 - acc: 0.9385 - val_loss: 0.1396 - val_acc: 0.9458\n",
      "Epoch 6/40\n",
      "1328/1328 [==============================] - 32s 24ms/step - loss: 0.1529 - acc: 0.9408 - val_loss: 0.1353 - val_acc: 0.9469\n",
      "Epoch 7/40\n",
      "   4/1328 [..............................] - ETA: 26s - loss: 0.1634 - acc: 0.93441328/1328 [==============================] - 32s 24ms/step - loss: 0.1470 - acc: 0.9431 - val_loss: 0.1321 - val_acc: 0.9485\n",
      "Epoch 8/40\n",
      " 813/1328 [=================>............] - ETA: 11s - loss: 0.1450 - acc: 0.94361328/1328 [==============================] - 32s 24ms/step - loss: 0.1444 - acc: 0.9438 - val_loss: 0.1301 - val_acc: 0.9489\n",
      "Epoch 9/40\n",
      "1166/1328 [=========================>....] - ETA: 3s - loss: 0.1405 - acc: 0.94551328/1328 [==============================] - 32s 24ms/step - loss: 0.1407 - acc: 0.9454 - val_loss: 0.1274 - val_acc: 0.9502\n",
      "Epoch 10/40\n",
      "1254/1328 [===========================>..] - ETA: 1s - loss: 0.1381 - acc: 0.94651328/1328 [==============================] - 32s 24ms/step - loss: 0.1381 - acc: 0.9465 - val_loss: 0.1258 - val_acc: 0.9506\n",
      "Epoch 11/40\n",
      "1309/1328 [============================>.] - ETA: 0s - loss: 0.1350 - acc: 0.94741328/1328 [==============================] - 32s 24ms/step - loss: 0.1351 - acc: 0.9474 - val_loss: 0.1244 - val_acc: 0.9510\n",
      "Epoch 12/40\n",
      "1328/1328 [==============================] - 32s 24ms/step - loss: 0.1329 - acc: 0.9485 - val_loss: 0.1225 - val_acc: 0.9515\n",
      "Epoch 13/40\n",
      "1328/1328 [==============================] - 32s 24ms/step - loss: 0.1311 - acc: 0.9493 - val_loss: 0.1220 - val_acc: 0.9521\n",
      "Epoch 14/40\n",
      " 735/1328 [===============>..............] - ETA: 12s - loss: 0.1288 - acc: 0.95031328/1328 [==============================] - 32s 24ms/step - loss: 0.1291 - acc: 0.9502 - val_loss: 0.1205 - val_acc: 0.9528\n",
      "Epoch 15/40\n",
      "1121/1328 [========================>.....] - ETA: 4s - loss: 0.1264 - acc: 0.95051328/1328 [==============================] - 32s 24ms/step - loss: 0.1264 - acc: 0.9507 - val_loss: 0.1193 - val_acc: 0.9530\n",
      "Epoch 16/40\n",
      "1272/1328 [===========================>..] - ETA: 1s - loss: 0.1257 - acc: 0.95151328/1328 [==============================] - 32s 24ms/step - loss: 0.1257 - acc: 0.9515 - val_loss: 0.1189 - val_acc: 0.9531\n",
      "Epoch 17/40\n",
      "1316/1328 [============================>.] - ETA: 0s - loss: 0.1243 - acc: 0.95201328/1328 [==============================] - 32s 24ms/step - loss: 0.1242 - acc: 0.9520 - val_loss: 0.1188 - val_acc: 0.9524\n",
      "Epoch 18/40\n",
      "1328/1328 [==============================] - 32s 24ms/step - loss: 0.1227 - acc: 0.9521 - val_loss: 0.1174 - val_acc: 0.9533\n",
      "Epoch 19/40\n",
      "   4/1328 [..............................] - ETA: 28s - loss: 0.1148 - acc: 0.96021328/1328 [==============================] - 32s 24ms/step - loss: 0.1210 - acc: 0.9528 - val_loss: 0.1166 - val_acc: 0.9541\n",
      "Epoch 20/40\n",
      " 843/1328 [==================>...........] - ETA: 10s - loss: 0.1178 - acc: 0.95391328/1328 [==============================] - 32s 24ms/step - loss: 0.1186 - acc: 0.9538 - val_loss: 0.1168 - val_acc: 0.9537\n",
      "Epoch 21/40\n",
      "1172/1328 [=========================>....] - ETA: 3s - loss: 0.1170 - acc: 0.95461328/1328 [==============================] - 32s 24ms/step - loss: 0.1174 - acc: 0.9544 - val_loss: 0.1161 - val_acc: 0.9538\n",
      "Epoch 22/40\n",
      "1261/1328 [===========================>..] - ETA: 1s - loss: 0.1168 - acc: 0.95441328/1328 [==============================] - 32s 24ms/step - loss: 0.1170 - acc: 0.9544 - val_loss: 0.1160 - val_acc: 0.9544\n",
      "Epoch 23/40\n",
      "1315/1328 [============================>.] - ETA: 0s - loss: 0.1157 - acc: 0.95481328/1328 [==============================] - 32s 24ms/step - loss: 0.1156 - acc: 0.9549 - val_loss: 0.1146 - val_acc: 0.9546\n",
      "Epoch 24/40\n",
      "1328/1328 [==============================] - 32s 24ms/step - loss: 0.1147 - acc: 0.9558 - val_loss: 0.1142 - val_acc: 0.9546\n",
      "Epoch 25/40\n",
      "   7/1328 [..............................] - ETA: 29s - loss: 0.1127 - acc: 0.95981328/1328 [==============================] - 32s 24ms/step - loss: 0.1119 - acc: 0.9567 - val_loss: 0.1148 - val_acc: 0.9549\n",
      "Epoch 26/40\n",
      " 838/1328 [=================>............] - ETA: 10s - loss: 0.1103 - acc: 0.95751328/1328 [==============================] - 32s 24ms/step - loss: 0.1116 - acc: 0.9569 - val_loss: 0.1138 - val_acc: 0.9552\n",
      "Epoch 27/40\n",
      "1152/1328 [=========================>....] - ETA: 3s - loss: 0.1095 - acc: 0.95791328/1328 [==============================] - 32s 24ms/step - loss: 0.1097 - acc: 0.9578 - val_loss: 0.1137 - val_acc: 0.9552\n",
      "Epoch 28/40\n",
      "1289/1328 [============================>.] - ETA: 0s - loss: 0.1098 - acc: 0.95741328/1328 [==============================] - 32s 24ms/step - loss: 0.1098 - acc: 0.9574 - val_loss: 0.1138 - val_acc: 0.9551\n",
      "Epoch 29/40\n",
      "1328/1328 [==============================] - 32s 24ms/step - loss: 0.1087 - acc: 0.9580 - val_loss: 0.1136 - val_acc: 0.9554\n",
      "Epoch 30/40\n",
      "   1/1328 [..............................] - ETA: 32s - loss: 0.1197 - acc: 0.95311328/1328 [==============================] - 32s 24ms/step - loss: 0.1076 - acc: 0.9586 - val_loss: 0.1130 - val_acc: 0.9554\n",
      "Epoch 31/40\n",
      " 840/1328 [=================>............] - ETA: 10s - loss: 0.1044 - acc: 0.95981328/1328 [==============================] - 32s 24ms/step - loss: 0.1060 - acc: 0.9591 - val_loss: 0.1134 - val_acc: 0.9552\n",
      "Epoch 32/40\n",
      "1154/1328 [=========================>....] - ETA: 3s - loss: 0.1043 - acc: 0.95921328/1328 [==============================] - 32s 24ms/step - loss: 0.1049 - acc: 0.9591 - val_loss: 0.1134 - val_acc: 0.9557\n",
      "Epoch 33/40\n",
      "1282/1328 [===========================>..] - ETA: 0s - loss: 0.1045 - acc: 0.95951328/1328 [==============================] - 32s 24ms/step - loss: 0.1043 - acc: 0.9595 - val_loss: 0.1131 - val_acc: 0.9553\n",
      "Epoch 34/40\n",
      "1313/1328 [============================>.] - ETA: 0s - loss: 0.1043 - acc: 0.95951328/1328 [==============================] - 32s 24ms/step - loss: 0.1044 - acc: 0.9594 - val_loss: 0.1123 - val_acc: 0.9558\n",
      "Epoch 35/40\n",
      "1328/1328 [==============================] - 32s 24ms/step - loss: 0.1025 - acc: 0.9604 - val_loss: 0.1124 - val_acc: 0.9561\n",
      "Epoch 36/40\n",
      "   1/1328 [..............................] - ETA: 34s - loss: 0.0916 - acc: 0.95941328/1328 [==============================] - 32s 24ms/step - loss: 0.1019 - acc: 0.9605 - val_loss: 0.1123 - val_acc: 0.9560\n",
      "Epoch 37/40\n",
      " 850/1328 [==================>...........] - ETA: 10s - loss: 0.0999 - acc: 0.96141328/1328 [==============================] - 32s 24ms/step - loss: 0.1003 - acc: 0.9612 - val_loss: 0.1132 - val_acc: 0.9560\n",
      "Epoch 38/40\n",
      "1180/1328 [=========================>....] - ETA: 3s - loss: 0.0996 - acc: 0.96171328/1328 [==============================] - 32s 24ms/step - loss: 0.1000 - acc: 0.9615 - val_loss: 0.1122 - val_acc: 0.9560\n",
      "Epoch 39/40\n",
      "1277/1328 [===========================>..] - ETA: 1s - loss: 0.0995 - acc: 0.96121328/1328 [==============================] - 32s 24ms/step - loss: 0.0994 - acc: 0.9612 - val_loss: 0.1128 - val_acc: 0.9559\n",
      "Epoch 40/40\n",
      "1304/1328 [============================>.] - ETA: 0s - loss: 0.0981 - acc: 0.96201328/1328 [==============================] - 32s 24ms/step - loss: 0.0981 - acc: 0.9619 - val_loss: 0.1119 - val_acc: 0.9560\n"
     ]
    }
   ],
   "source": [
    "train_steps_per_epoch = X_train.shape[0] // BATCH_SIZE\n",
    "val_steps_per_epoch = X_val.shape[0] // BATCH_SIZE\n",
    "\n",
    "history = model.fit_generator(train_generator,\n",
    "                              steps_per_epoch=train_steps_per_epoch,\n",
    "                              validation_data=val_generator,\n",
    "                              validation_steps=val_steps_per_epoch,\n",
    "                              epochs=EPOCHS,\n",
    "                              verbose=1)"
   ]
  },
  {
   "cell_type": "markdown",
   "metadata": {},
   "source": [
    "## Analyze Model Performance"
   ]
  },
  {
   "cell_type": "code",
   "execution_count": 18,
   "metadata": {
    "colab": {
     "autoexec": {
      "startup": false,
      "wait_interval": 0
     },
     "base_uri": "https://localhost:8080/",
     "height": 378
    },
    "colab_type": "code",
    "executionInfo": {
     "elapsed": 1720,
     "status": "ok",
     "timestamp": 1531343116483,
     "user": {
      "displayName": "Raghav Bali",
      "photoUrl": "//lh4.googleusercontent.com/-HPass-4Bl9U/AAAAAAAAAAI/AAAAAAAAKiI/A0BQ8MHwVME/s50-c-k-no/photo.jpg",
      "userId": "117317575176939780509"
     },
     "user_tz": -330
    },
    "id": "ucbrAJdAerCe",
    "outputId": "6a650099-386a-427f-c2f2-33e9ee54dd82"
   },
   "outputs": [
    {
     "data": {
      "image/png": "[encoded data removed]",
      "text/plain": [
       "<matplotlib.figure.Figure at 0x7ff9da64a710>"
      ]
     },
     "metadata": {
      "tags": []
     },
     "output_type": "display_data"
    }
   ],
   "source": [
    "f, (ax1, ax2) = plt.subplots(1, 2, figsize=(15, 5))\n",
    "t = f.suptitle('Deep Neural Net Performance', fontsize=12)\n",
    "f.subplots_adjust(top=0.85, wspace=0.3)\n",
    "\n",
    "epochs = list(range(1,EPOCHS+1))\n",
    "ax1.plot(epochs, history.history['acc'], label='Train Accuracy')\n",
    "ax1.plot(epochs, history.history['val_acc'], label='Validation Accuracy')\n",
    "ax1.set_xticks(epochs)\n",
    "ax1.set_ylabel('Accuracy Value')\n",
    "ax1.set_xlabel('Epoch')\n",
    "ax1.set_title('Accuracy')\n",
    "l1 = ax1.legend(loc=\"best\")\n",
    "\n",
    "ax2.plot(epochs, history.history['loss'], label='Train Loss')\n",
    "ax2.plot(epochs, history.history['val_loss'], label='Validation Loss')\n",
    "ax2.set_xticks(epochs)\n",
    "ax2.set_ylabel('Loss Value')\n",
    "ax2.set_xlabel('Epoch')\n",
    "ax2.set_title('Loss')\n",
    "l2 = ax2.legend(loc=\"best\")"
   ]
  },
  {
   "cell_type": "code",
   "execution_count": 0,
   "metadata": {
    "colab": {
     "autoexec": {
      "startup": false,
      "wait_interval": 0
     }
    },
    "colab_type": "code",
    "collapsed": true,
    "id": "6O7_wTjerlCJ"
   },
   "outputs": [],
   "source": [
    "predictions = model.predict(X_test/255.)"
   ]
  },
  {
   "cell_type": "code",
   "execution_count": 0,
   "metadata": {
    "colab": {
     "autoexec": {
      "startup": false,
      "wait_interval": 0
     }
    },
    "colab_type": "code",
    "collapsed": true,
    "id": "-kXS6GcHrhP0"
   },
   "outputs": [],
   "source": [
    "test_labels = list(y_test.squeeze())\n",
    "predictions = list(predictions.argmax(axis=1))"
   ]
  },
  {
   "cell_type": "code",
   "execution_count": 23,
   "metadata": {
    "colab": {
     "autoexec": {
      "startup": false,
      "wait_interval": 0
     },
     "base_uri": "https://localhost:8080/",
     "height": 85
    },
    "colab_type": "code",
    "executionInfo": {
     "elapsed": 895,
     "status": "ok",
     "timestamp": 1531343127722,
     "user": {
      "displayName": "Raghav Bali",
      "photoUrl": "//lh4.googleusercontent.com/-HPass-4Bl9U/AAAAAAAAAAI/AAAAAAAAKiI/A0BQ8MHwVME/s50-c-k-no/photo.jpg",
      "userId": "117317575176939780509"
     },
     "user_tz": -330
    },
    "id": "lQ9T1O9vrdyI",
    "outputId": "603e0d65-ca22-4996-9dcf-3b5451c30df6"
   },
   "outputs": [
    {
     "name": "stdout",
     "output_type": "stream",
     "text": [
      "Accuracy: 0.764\n",
      "Precision: 0.764\n",
      "Recall: 0.764\n",
      "F1 Score: 0.7632\n"
     ]
    }
   ],
   "source": [
    "get_metrics(true_labels=y_test, \n",
    "                predicted_labels=predictions)"
   ]
  }
 ],
 "metadata": {
  "accelerator": "GPU",
  "colab": {
   "collapsed_sections": [],
   "default_view": {},
   "name": "Copy of cifar10_vgg16_july12.ipynb",
   "provenance": [
    {
     "file_id": "1tlQq2thZWPDNqaMbfBJ9_TOo0YTqv7IL",
     "timestamp": 1531320536438
    }
   ],
   "version": "0.3.2",
   "views": {}
  },
  "kernelspec": {
   "display_name": "Python 3",
   "language": "python",
   "name": "python3"
  },
  "language_info": {
   "codemirror_mode": {
    "name": "ipython",
    "version": 3
   },
   "file_extension": ".py",
   "mimetype": "text/x-python",
   "name": "python",
   "nbconvert_exporter": "python",
   "pygments_lexer": "ipython3",
   "version": "3.6.5"
  }
 },
 "nbformat": 4,
 "nbformat_minor": 1
}
