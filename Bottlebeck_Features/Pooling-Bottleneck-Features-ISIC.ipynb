{
 "cells": [
  {
   "cell_type": "code",
   "execution_count": 8,
   "metadata": {},
   "outputs": [],
   "source": [
    "import warnings\n",
    "warnings.filterwarnings('always')\n",
    "warnings.filterwarnings('ignore')"
   ]
  },
  {
   "cell_type": "code",
   "execution_count": 20,
   "metadata": {},
   "outputs": [],
   "source": [
    "import os\n",
    "import math\n",
    "import numpy as np\n",
    "\n",
    "from keras.preprocessing.image import ImageDataGenerator, img_to_array, load_img\n",
    "from keras.models import Sequential, Model\n",
    "from keras import optimizers\n",
    "from keras.layers import Dropout, Flatten, Dense, AveragePooling2D\n",
    "from keras import applications\n",
    "from keras.utils.np_utils import to_categorical\n",
    "\n",
    "import matplotlib.pyplot as plt\n",
    "%matplotlib inline"
   ]
  },
  {
   "cell_type": "code",
   "execution_count": 10,
   "metadata": {},
   "outputs": [],
   "source": [
    "train_dir = 'data-ISIC/train/'\n",
    "# validation_dir = 'data-ISIC/validation'\n",
    "test_dir = 'data-ISIC/test'"
   ]
  },
  {
   "cell_type": "code",
   "execution_count": 11,
   "metadata": {},
   "outputs": [
    {
     "name": "stdout",
     "output_type": "stream",
     "text": [
      "data-ISIC/train/ 0\n",
      "data-ISIC/train/AKIEC 3856\n",
      "data-ISIC/train/BCC 4773\n",
      "data-ISIC/train/BKL 3275\n",
      "data-ISIC/train/DF 4152\n",
      "data-ISIC/train/MEL 3308\n",
      "data-ISIC/train/NV 4975\n",
      "data-ISIC/train/VASC 3488\n",
      "******************************\n",
      "data-ISIC/test 0\n",
      "data-ISIC/test\\AKIEC 1552\n",
      "data-ISIC/test\\BCC 1692\n",
      "data-ISIC/test\\BKL 1479\n",
      "data-ISIC/test\\DF 1632\n",
      "data-ISIC/test\\MEL 1664\n",
      "data-ISIC/test\\NV 1730\n",
      "data-ISIC/test\\VASC 1484\n"
     ]
    }
   ],
   "source": [
    "for root,dirs,files in os.walk(train_dir):\n",
    "    print (root, len(files))\n",
    "\n",
    "# print(\"*\"*30)\n",
    "# for root,dirs,files in os.walk(validation_dir):\n",
    "#     print (root, len(files))\n",
    "    \n",
    "print(\"*\"*30)\n",
    "for root,dirs,files in os.walk(test_dir):\n",
    "    print (root, len(files))"
   ]
  },
  {
   "cell_type": "code",
   "execution_count": 12,
   "metadata": {},
   "outputs": [],
   "source": [
    "output_classes = 7\n",
    "batch_size = 4\n",
    "img_height, img_width = 224, 224\n",
    "input_shape = (img_height, img_width, 3)\n",
    "epochs = 50\n",
    "\n",
    "top_model_weights_path = 'bottleneck_fc_model.h5'\n",
    "\n",
    "nb_train_samples = sum([len(files) for r, d, files in os.walk(train_dir)])\n",
    "# nb_validation_samples = sum([len(files) for r, d, files in os.walk(validation_dir)])\n",
    "nb_test_samples = sum([len(files) for r, d, files in os.walk(test_dir)])"
   ]
  },
  {
   "cell_type": "code",
   "execution_count": 13,
   "metadata": {},
   "outputs": [
    {
     "name": "stdout",
     "output_type": "stream",
     "text": [
      "Found 27827 images belonging to 7 classes.\n",
      "Found 11233 images belonging to 7 classes.\n"
     ]
    }
   ],
   "source": [
    "random_seed = np.random.seed(1142)\n",
    "\n",
    "train_datagen = ImageDataGenerator(\n",
    "    rescale=1. / 255,\n",
    "    featurewise_center=True,\n",
    "    featurewise_std_normalization=True)\n",
    "\n",
    "train_generator = train_datagen.flow_from_directory(\n",
    "    train_dir,\n",
    "    target_size=(img_height, img_width),\n",
    "    batch_size=batch_size,\n",
    "    seed = random_seed,\n",
    "    shuffle = False,\n",
    "    class_mode='categorical')\n",
    "\n",
    "validation_generator = train_datagen.flow_from_directory(\n",
    "    test_dir,\n",
    "    target_size=(img_height, img_width),\n",
    "    batch_size=batch_size,\n",
    "    seed = random_seed,\n",
    "    shuffle = False,\n",
    "    class_mode='categorical')\n",
    "\n",
    "# test_datagen = ImageDataGenerator(rescale=1. / 255)\n",
    "\n",
    "# test_generator = test_datagen.flow_from_directory(\n",
    "#     test_dir,\n",
    "#     target_size=(img_height, img_width),\n",
    "#     batch_size=batch_size,\n",
    "#     seed = random_seed,\n",
    "#     shuffle = False,\n",
    "#     class_mode='categorical')"
   ]
  },
  {
   "cell_type": "code",
   "execution_count": 14,
   "metadata": {},
   "outputs": [],
   "source": [
    "nb_train_samples = len(train_generator.filenames)\n",
    "nb_validation_samples = len(validation_generator.filenames)\n",
    "\n",
    "num_classes = len(train_generator.class_indices)\n",
    "\n",
    "predict_size_train = int(math.ceil(nb_train_samples / batch_size))\n",
    "predict_size_validation = int(math.ceil(nb_validation_samples / batch_size))"
   ]
  },
  {
   "cell_type": "code",
   "execution_count": 21,
   "metadata": {},
   "outputs": [],
   "source": [
    "def save_bottlebeck_features():\n",
    "    # build the VGG16 network\n",
    "    model = applications.VGG16(include_top=False, weights='imagenet')\n",
    "    # print(model.summary())\n",
    "#     base_model = ResNet50(include_top=False, weights='imagenet', input_shape=input_shape)\n",
    "    base_model_1 = Model(input=model.input, output = model.layers[-2].output)\n",
    "\n",
    "    top_model = Sequential()\n",
    "    top_model.add(AveragePooling2D((3, 3), name='avg_pool', input_shape=input_shape))\n",
    "\n",
    "    # add the model on top of the convolutional base\n",
    "    extract_model = Sequential()\n",
    "    extract_model.add(base_model_1)\n",
    "    extract_model.add(top_model)\n",
    "\n",
    "    bottleneck_features_train = extract_model.predict_generator(train_generator, predict_size_train)\n",
    "    bottleneck_features_validation = extract_model.predict_generator(validation_generator, predict_size_validation)\n",
    "    \n",
    "    np.save('bottleneck_features_pooling_train.npy', bottleneck_features_train)\n",
    "    np.save('bottleneck_features_pooling_validation.npy', bottleneck_features_validation)"
   ]
  },
  {
   "cell_type": "code",
   "execution_count": 22,
   "metadata": {},
   "outputs": [],
   "source": [
    "save_bottlebeck_features()"
   ]
  },
  {
   "cell_type": "code",
   "execution_count": 23,
   "metadata": {},
   "outputs": [],
   "source": [
    "def train_top_model():\n",
    "\n",
    "    train_data = np.load('bottleneck_features_pooling_train.npy')\n",
    "    validation_data = np.load('bottleneck_features_pooling_validation.npy')\n",
    "\n",
    "    train_labels = train_generator.classes\n",
    "    train_labels = to_categorical(train_labels, num_classes=num_classes)\n",
    "\n",
    "    validation_labels = validation_generator.classes\n",
    "    validation_labels = to_categorical(validation_labels, num_classes=num_classes)\n",
    "    \n",
    "\n",
    "    model = Sequential()\n",
    "    model.add(Flatten(input_shape=train_data.shape[1:]))\n",
    "    model.add(Dense(256, activation='relu'))\n",
    "    model.add(Dropout(0.5))\n",
    "    model.add(Dense(num_classes, activation='softmax'))\n",
    "\n",
    "    model.compile(optimizer=optimizers.Adam(lr=0.0001),loss='categorical_crossentropy', metrics=['accuracy'])\n",
    "\n",
    "    history = model.fit(train_data, train_labels,\n",
    "                        epochs=epochs,\n",
    "                        batch_size=batch_size,\n",
    "                        validation_data=(validation_data, validation_labels))\n",
    "\n",
    "    model.save_weights(top_model_weights_path)\n",
    "\n",
    "    (eval_loss, eval_accuracy) = model.evaluate(\n",
    "        validation_data, validation_labels, \n",
    "        batch_size= batch_size, \n",
    "        verbose=1)\n",
    "    \n",
    "    print (\"*\" *50)\n",
    "    print(\"Validation Accuracy: {:.2f}%\".format(eval_accuracy * 100))\n",
    "    print(\"Validation Loss: {}\".format(eval_loss))\n",
    "    \n",
    "\n",
    "    plt.figure(1)\n",
    "\n",
    "    # summarize history for accuracy\n",
    "    plt.subplot(211)\n",
    "    plt.plot(history.history['acc'])\n",
    "    plt.plot(history.history['val_acc'])\n",
    "    plt.title('model accuracy')\n",
    "    plt.ylabel('accuracy')\n",
    "    plt.xlabel('epoch')\n",
    "    plt.legend(['train', 'test'], loc='upper left')\n",
    "\n",
    "    # summarize history for loss\n",
    "    plt.subplot(212)\n",
    "    plt.plot(history.history['loss'])\n",
    "    plt.plot(history.history['val_loss'])\n",
    "    plt.title('model loss')\n",
    "    plt.ylabel('loss')\n",
    "    plt.xlabel('epoch')\n",
    "    plt.legend(['train', 'test'], loc='upper left')\n",
    "    plt.show()"
   ]
  },
  {
   "cell_type": "code",
   "execution_count": 24,
   "metadata": {
    "scrolled": false
   },
   "outputs": [
    {
     "name": "stdout",
     "output_type": "stream",
     "text": [
      "Train on 27827 samples, validate on 11233 samples\n",
      "Epoch 1/50\n",
      "27827/27827 [==============================] - 37s 1ms/step - loss: 1.4021 - acc: 0.4737 - val_loss: 1.2310 - val_acc: 0.5260\n",
      "Epoch 2/50\n",
      "27827/27827 [==============================] - 36s 1ms/step - loss: 1.0829 - acc: 0.6008 - val_loss: 1.0959 - val_acc: 0.5925\n",
      "Epoch 3/50\n",
      "27827/27827 [==============================] - 36s 1ms/step - loss: 0.9252 - acc: 0.6613 - val_loss: 1.0424 - val_acc: 0.6169\n",
      "Epoch 4/50\n",
      "27827/27827 [==============================] - 35s 1ms/step - loss: 0.8218 - acc: 0.7017 - val_loss: 0.9896 - val_acc: 0.6345\n",
      "Epoch 5/50\n",
      "27827/27827 [==============================] - 35s 1ms/step - loss: 0.7414 - acc: 0.7308 - val_loss: 0.9757 - val_acc: 0.6495\n",
      "Epoch 6/50\n",
      "27827/27827 [==============================] - 36s 1ms/step - loss: 0.6816 - acc: 0.7529 - val_loss: 0.9571 - val_acc: 0.6638\n",
      "Epoch 7/50\n",
      "27827/27827 [==============================] - 36s 1ms/step - loss: 0.6343 - acc: 0.7700 - val_loss: 0.9592 - val_acc: 0.6760\n",
      "Epoch 8/50\n",
      "27827/27827 [==============================] - 36s 1ms/step - loss: 0.5902 - acc: 0.7860 - val_loss: 0.9894 - val_acc: 0.6734\n",
      "Epoch 9/50\n",
      "27827/27827 [==============================] - 36s 1ms/step - loss: 0.5640 - acc: 0.7952 - val_loss: 0.9679 - val_acc: 0.6841\n",
      "Epoch 10/50\n",
      "27827/27827 [==============================] - 36s 1ms/step - loss: 0.5359 - acc: 0.8060 - val_loss: 0.9638 - val_acc: 0.6975\n",
      "Epoch 11/50\n",
      "27827/27827 [==============================] - 35s 1ms/step - loss: 0.5085 - acc: 0.8167 - val_loss: 1.1170 - val_acc: 0.6671\n",
      "Epoch 12/50\n",
      "27827/27827 [==============================] - 36s 1ms/step - loss: 0.4864 - acc: 0.8246 - val_loss: 1.0090 - val_acc: 0.7021\n",
      "Epoch 13/50\n",
      "27827/27827 [==============================] - 35s 1ms/step - loss: 0.4620 - acc: 0.8358 - val_loss: 0.9580 - val_acc: 0.7145\n",
      "Epoch 14/50\n",
      "27827/27827 [==============================] - 36s 1ms/step - loss: 0.4444 - acc: 0.8400 - val_loss: 1.1425 - val_acc: 0.6911\n",
      "Epoch 15/50\n",
      "27827/27827 [==============================] - 36s 1ms/step - loss: 0.4308 - acc: 0.8467 - val_loss: 0.9636 - val_acc: 0.7241\n",
      "Epoch 16/50\n",
      "27827/27827 [==============================] - 36s 1ms/step - loss: 0.4126 - acc: 0.8510 - val_loss: 0.9681 - val_acc: 0.7323\n",
      "Epoch 17/50\n",
      "27827/27827 [==============================] - 36s 1ms/step - loss: 0.4025 - acc: 0.8534 - val_loss: 1.0600 - val_acc: 0.7175 - loss: 0.4030 - acc: 0.85 - ETA: 17s - loss: 0.4029 - ETA: 17s - loss: 0. - ETA: 16s - lo - ETA: 16s - lo - ETA - ETA: 13s - loss: 0.4046 - a - ETA: 11s -  - ETA: 10s - loss - ETA: 9s - loss:  - ETA: 8s - loss: 0.4055 - a - ETA: 8s - loss: 0.4063 - ac - E - ETA: 5s - loss: 0.4046 - acc: - ET - ETA: 2s - loss: 0.4031 - acc: 0\n",
      "Epoch 18/50\n",
      "27827/27827 [==============================] - 36s 1ms/step - loss: 0.3884 - acc: 0.8586 - val_loss: 1.0021 - val_acc: 0.7271: 7s - loss: 0.3904 - acc: 0 - ETA: 7s - loss: 0.3911 - - ETA:  - ETA: - ETA: 0s - loss: 0.3884 - acc: 0.858\n",
      "Epoch 19/50\n",
      "27827/27827 [==============================] - 35s 1ms/step - loss: 0.3747 - acc: 0.8624 - val_loss: 1.1101 - val_acc: 0.7242 0s - loss: 0.3753 - a\n",
      "Epoch 20/50\n",
      "27827/27827 [==============================] - 36s 1ms/step - loss: 0.3623 - acc: 0.8676 - val_loss: 1.0283 - val_acc: 0.7419 27s - loss: 0.36 - ETA: 25s - loss: 0.3659 - acc: 0. - - ETA: 13s - loss: 0.3663 - acc: 0. - ETA: 13s - loss: 0.3662 - - ETA:  - ETA: 11s - loss: 0.3670 - acc: 0. - ETA - ETA:  - ETA: 9s - ETA: 7s - loss: 0.3658 - acc: 0 - ETA: 7s - loss: 0.3660 - acc: - ETA: 6s - loss: 0.3654 - acc: 0 - ETA: 6s - loss: 0.3651  - ETA: 5s - loss: 0.3650 - acc:  - ETA: 5s - loss - ETA: 3s - loss: 0.3634 - acc: 0.8 - ETA: 3s - loss: 0.3645  - ETA: 2s - loss: 0.3640 - acc - ETA: 2s - loss: - ETA: 0s - loss: 0.36\n",
      "Epoch 21/50\n",
      "27827/27827 [==============================] - 36s 1ms/step - loss: 0.3569 - acc: 0.8702 - val_loss: 1.0515 - val_acc: 0.7351.3547 - acc: 0.87 - ETA: 15s - loss: 0.3553 - ETA: 10s - loss: 0.3550 - - ETA: 10s - - ETA: 9s - loss: 0.3565 - acc: - ETA: 8s - los - ETA: 7s - loss: 0.3560 - - ETA: 6s - - ETA: 5s -  - ETA: 3s - loss: 0.3 \n",
      "Epoch 22/50\n",
      "27827/27827 [==============================] - 36s 1ms/step - loss: 0.3468 - acc: 0.8722 - val_loss: 1.1419 - val_acc: 0.73257 - ETA: 25s - loss - ETA: 24s -  - ETA: 13s - loss: 0.3448 - - ETA:  - ETA: 12s - loss: 0.3453 - - ETA: 11s - loss: 0.3450 - acc: 0.87 - ETA: 11s -  - ET - ETA: 9s - loss: 0.3453 - acc: 0 - ETA: 9s - loss: 0.3 - ETA: 8s -  - ETA: 6s - loss: 0.3477 - acc: 0. - ETA: 6s - los - ETA: 4s - loss: 0.3474  - ETA: 4s - loss: 0.3481 - acc: 0.87 - ETA: 4s - loss: 0.3482 - acc: - ETA: 3s - loss: 0.3478 - ac - ETA: 3s - loss: 0 - ETA: 1s - loss: 0.3476 - acc:  - ETA: 1s - loss: 0.3484 - acc:  - ETA: 1s - loss: 0.3482 - ETA: 0s - loss: 0.3470 - acc: 0.\n",
      "Epoch 23/50\n",
      "27827/27827 [==============================] - 36s 1ms/step - loss: 0.3395 - acc: 0.8752 - val_loss: 1.0666 - val_acc: 0.7401 - loss: 0.3402 - acc: 0. - ETA: 10s - lo - ETA: 9s - loss: 0.3395 - ac  - ETA: 1s - loss: 0.3384 - acc: 0.87 - ETA: 1s - loss: 0.3382 - - ETA: 0s - loss: 0.3393 - acc:\n",
      "Epoch 24/50\n",
      "27827/27827 [==============================] - 36s 1ms/step - loss: 0.3317 - acc: 0.8781 - val_loss: 1.0644 - val_acc: 0.7355\n",
      "Epoch 25/50\n",
      "27827/27827 [==============================] - 36s 1ms/step - loss: 0.3185 - acc: 0.8840 - val_loss: 1.0334 - val_acc: 0.7514- ETA: 9s - loss: 0.3196 - a - ET - ETA: 4s - ETA: 2s - loss: 0.3184 - acc: 0. - ETA: 2s - lo - ETA: 0s - loss: 0.3184 -  - ETA: 0s - loss: 0.3186 - acc: 0.\n",
      "Epoch 26/50\n",
      "27827/27827 [==============================] - 36s 1ms/step - loss: 0.3149 - acc: 0.8852 - val_loss: 1.0786 - val_acc: 0.7455 0.3098 - - ETA: 13s - loss: 0.3104 - - ETA: 13s - loss: 0.3099 - acc: 0. - ETA: 12s - loss: 0.3100 - ETA: 11s - loss: 0.3095 - ETA: 10 - ETA: 9s - loss: 0.3096 -  - ETA: 9s - loss: 0. - ETA: 8s - loss: 0.3121 - ETA: 7s - loss: 0.3121 - ac - ETA: 6s - los - ETA: 5s - loss: 0.31 - ETA: 4s - loss: 0.31 - ETA: 3s - loss: 0.3151 - acc: 0.88 - ETA: 3s - loss: 0.3146 - acc: 0. - ETA: 2s - loss: 0.3144 - acc \n",
      "Epoch 27/50\n",
      "27827/27827 [==============================] - 36s 1ms/step - loss: 0.3059 - acc: 0.8896 - val_loss: 1.2387 - val_acc: 0.7395oss: 0. - - ETA: 13s - loss: 0.3105 - acc - ETA: 13s - loss: 0. - ETA: 12s  - ETA: 10s - loss: 0.3099 - a - ETA: 10s - l - ETA: 9s - loss: 0.308 - ETA: 8s - loss: 0.3089 - acc: 0. - ETA: 8s  - ETA - ETA: \n",
      "Epoch 28/50\n",
      "27827/27827 [==============================] - 36s 1ms/step - loss: 0.2979 - acc: 0.8929 - val_loss: 1.1345 - val_acc: 0.7337 27s - loss: 0.3015 - acc: 0.88 - ETA: 27s - loss: 0.3007 - acc - ETA: 26s - loss: 0.3007 - acc: 0.89 - ETA: 26s - loss: 0.3008 - acc - ETA: 16s - loss: 0.3011 - a - ETA: 11s - loss: 0.3027 - acc:  - ETA:  - ETA: 10s - loss: 0.3031 - acc:  - ETA: 9s - - ETA: 8s - loss: 0.3 - ETA: 6s - loss: 0.301 - E - ETA: 3s - loss: 0.3006 - ETA: 2s - loss: 0.300 - ETA: 2s - loss: 0.2984 -  - ETA: 1s - loss: 0.2974 - acc: 0.8 - ETA: 1s - loss: 0.2975 - acc: 0.89 - ETA: 1s - loss: 0.2976 -  - ETA: 0s - loss: 0.2976 - acc: \n",
      "Epoch 29/50\n",
      "27827/27827 [==============================] - 36s 1ms/step - loss: 0.2907 - acc: 0.8932 - val_loss: 1.2856 - val_acc: 0.73603s - loss: 0.2840 - acc - ETA: 13s - loss: 0. - ETA: 13s - loss: 0.2831 - acc: 0. - ETA: 12s - loss - ETA: 6s - loss: 0. - ETA: 3s - loss: 0.2861 - - ETA:  - ETA: 0s - loss: 0.2895 -\n",
      "Epoch 30/50\n",
      "27827/27827 [==============================] - 36s 1ms/step - loss: 0.2855 - acc: 0.8948 - val_loss: 1.1467 - val_acc: 0.7504. - ETA: 9s - loss: - ETA: 8s - lo - ETA: 4s - loss: 0 - ETA: 0s - loss: 0.2850 - acc: 0. - ETA: 0s - loss: 0.2852 -\n",
      "Epoch 31/50\n",
      "27827/27827 [==============================] - 36s 1ms/step - loss: 0.2803 - acc: 0.8978 - val_loss: 1.2556 - val_acc: 0.74492s -  - ETA: 11s - loss: 0.2829 - - ETA: - ETA: 7s - l - ETA: 5s - loss: 0.28 - ETA: 2s - loss - ETA: 0s - loss: 0.2813 - ac - ETA: 0s - loss: 0.2808 - acc: 0.\n",
      "Epoch 32/50\n"
     ]
    },
    {
     "name": "stdout",
     "output_type": "stream",
     "text": [
      "27827/27827 [==============================] - 36s 1ms/step - loss: 0.2725 - acc: 0.9006 - val_loss: 1.1844 - val_acc: 0.7493s - loss: 0.2774 - acc: 0.8 - - ETA: 6s - loss: 0.2745 - ac - ETA - ETA: 3s - ETA: 1s - loss: 0.2726 - acc: 0.900 - ETA: 1s - loss: 0.2 - ETA: 0s - loss: 0.2729 - acc\n",
      "Epoch 33/50\n",
      "27827/27827 [==============================] - 36s 1ms/step - loss: 0.2701 - acc: 0.9015 - val_loss: 1.1827 - val_acc: 0.7527 - loss: 0.2702 - - ETA: 10s - loss - ETA: 9s - loss: 0.2708 - acc - ETA: 9s - lo - ETA: 7s - loss: 0.2709 - - ETA: 7s - loss: 0.2713 - acc: 0.901 - ETA: 7s - loss: - ETA: 3s - loss: 0.2705 - acc: 0.90 -  - ETA: 0s - loss: 0.268\n",
      "Epoch 34/50\n",
      "27827/27827 [==============================] - 36s 1ms/step - loss: 0.2608 - acc: 0.9051 - val_loss: 1.2366 - val_acc: 0.7594 - loss: 0.2574 - ETA: 12s - loss - ETA: 11s - loss: 0.2586 - - ETA: 11s - loss: 0.2586 - acc:  - ETA: - ETA: 8s - loss: 0 - ETA: - ETA: 0s - loss: 0.2606 - acc: 0.90\n",
      "Epoch 35/50\n",
      "27827/27827 [==============================] - 36s 1ms/step - loss: 0.2555 - acc: 0.9058 - val_loss: 1.1182 - val_acc: 0.7597608 - acc: 0.90 - ETA: 26s - loss: 0.2599 - ETA: 26s - loss: 0.2573 - - ETA: 26s - lo - ETA: 25s - loss: 0.2624 - a - - ETA: 21s - loss: 0.2637 - acc - ETA: 18s - loss: 0. - ETA:  - ETA: 17s - l - ETA: 0s - loss: 0.2554 - acc:\n",
      "Epoch 36/50\n",
      "27827/27827 [==============================] - 36s 1ms/step - loss: 0.2529 - acc: 0.9071 - val_loss: 1.2456 - val_acc: 0.7660s - loss: 0.2527 -  - ETA: 3s - loss: 0.2538 -  - ETA: 0s - loss: 0.2538 - ac\n",
      "Epoch 37/50\n",
      "27827/27827 [==============================] - 35s 1ms/step - loss: 0.2489 - acc: 0.9101 - val_loss: 1.2195 - val_acc: 0.7522 - loss: - ETA: 8s - lo - ETA: 6s - loss: 0. - ETA: 5s - lo - ETA: 1s - l\n",
      "Epoch 38/50\n",
      "27827/27827 [==============================] - 35s 1ms/step - loss: 0.2475 - acc: 0.9120 - val_loss: 1.0315 - val_acc: 0.7749A: 6s - loss: 0.24 - ETA: 5s - loss: - ETA: 3s - loss: 0.2492 - - ETA: 3s -  - ETA: 1s - los\n",
      "Epoch 39/50\n",
      "27827/27827 [==============================] - 36s 1ms/step - loss: 0.2432 - acc: 0.9111 - val_loss: 1.0991 - val_acc: 0.7736 10s - loss: 0.2413 - ac - ETA: 9s - loss: 0.2413 - acc: - ETA: 9s - loss: 0.2412  - ETA: 8s - loss: 0.2423 - acc: 0.911 - ETA: 8s - loss:  - ETA: 7s - loss: 0.2413  - ETA: 6s - loss: - ETA: 5s - loss: 0.24 - ETA: 4s - loss: 0.2429 - ETA: 3s - loss: 0.2424 - acc: 0. - ETA: 2s -  - ETA: 1s - loss: 0.2433 - acc - ETA: 0s - loss: 0.2433\n",
      "Epoch 40/50\n",
      "27827/27827 [==============================] - 36s 1ms/step - loss: 0.2397 - acc: 0.9125 - val_loss: 1.2658 - val_acc: 0.7573s - loss: 0.2412 - - ETA: 5s - loss: 0. - ETA: 1s -  - ETA: 0s - loss: 0.2401 - acc: 0\n",
      "Epoch 41/50\n",
      "27827/27827 [==============================] - 36s 1ms/step - loss: 0.2340 - acc: 0.9158 - val_loss: 1.2556 - val_acc: 0.7470A: 15s - loss - ETA: 14 - ETA: 12s - loss: 0.2309 - a - ETA: 12s -  - ETA:  - ETA: 10s - loss: 0.2350 - acc - ET - ETA: 5s - loss: 0.2340 - acc: 0.9 - ETA: 5s - loss: 0.2344 - ac - ETA: 5s - loss: 0.2343 - acc: 0. - ETA: 4s - loss: 0.2334 - acc: - ETA: 4s - loss: 0.2329 -  - ETA: 3s -  - ETA: 2s - loss: 0.2331 - acc: 0.916 - ETA: 2s - loss: 0.2330 - acc: 0. - ETA: 1s - loss: 0.2333 - acc: 0.916 - ETA: 1s\n",
      "Epoch 42/50\n",
      "27827/27827 [==============================] - 36s 1ms/step - loss: 0.2297 - acc: 0.9157 - val_loss: 1.1937 - val_acc: 0.7635- acc: 0. - ETA: 29s - loss: 0.2353 - acc: 0. - ETA:  - ETA: 26s - loss:  - ETA - ETA: 25s - lo - ETA: 24s - loss: 0.2283 - ETA: 21s - loss: 0.2227 - acc: 0. - - ETA: 15s - loss: 0.2318 - acc - ETA: 14s - loss: 0.2324 - acc - ETA: 14s - loss: 0. - ETA - ETA: 10s - loss: 0. - ETA: 7s - loss:  - ETA:  - ETA: 4s - loss: 0.2280 - ac - ET - ETA: 1s - \n",
      "Epoch 43/50\n",
      "27827/27827 [==============================] - 36s 1ms/step - loss: 0.2260 - acc: 0.9173 - val_loss: 1.2135 - val_acc: 0.7572s - ETA: 12s - loss: 0.2212 - - ETA: 12s - loss: 0.22  - ETA: 6s - loss: 0.2265 -  - ETA: 6s - loss: 0.2260 - acc: - ETA: 5s - loss - ETA: 4s - loss: 0. - ETA: 3s - loss: 0.2256 - \n",
      "Epoch 44/50\n",
      "27827/27827 [==============================] - 36s 1ms/step - loss: 0.2259 - acc: 0.9171 - val_loss: 1.1987 - val_acc: 0.7549- loss: 0.2319 - acc:  - ETA: 8s - loss: 0.2313 - acc: - ETA: 7s - loss: 0.2301 - acc: 0 - ETA: 7s - loss: 0.2293 - ac - ETA: 7s - loss: 0.2284 - a - ETA: 6s - loss: 0.2281 - acc: 0. - ETA: 6s - loss:\n",
      "Epoch 45/50\n",
      "27827/27827 [==============================] - 36s 1ms/step - loss: 0.2188 - acc: 0.9184 - val_loss: 1.2418 - val_acc: 0.7652 13s - loss: 0.2169 - acc: 0.91 - ETA: 13s - loss: 0.21 - ETA: 12s  - ETA - ETA: 10s - los - ETA: 9s - loss: 0.218 - ETA: 8s - loss: 0.2185 - acc - ETA: 8s - loss: 0.2194 - a - ETA: 7s - loss - ETA - ETA: 4s - loss: 0.2185 - acc: 0.919 - ETA: 4s - loss: 0.21 - ETA: 3s - loss: 0.2189\n",
      "Epoch 46/50\n",
      "27827/27827 [==============================] - 36s 1ms/step - loss: 0.2158 - acc: 0.9212 - val_loss: 1.3535 - val_acc: 0.7590 - loss: 0.215 - ETA: 3s -  - \n",
      "Epoch 47/50\n",
      "27827/27827 [==============================] - 36s 1ms/step - loss: 0.2166 - acc: 0.9208 - val_loss: 1.3277 - val_acc: 0.7662A - ETA: 25s - loss:  - ETA: 9s - loss: 0.214 - ETA: 8s - loss: 0.2142 - - ETA: 7s - lo - ETA: 6s - loss: 0.2140 - acc - ETA: 5s - loss: 0.2151 - acc: 0.920 - ETA: 5s - loss: 0.2150 - acc - ETA: 2s - loss:  - ETA: 1s - loss: 0.2168 - - ETA: 0s - loss: 0.2167 - acc:  - ETA: 0s - loss: 0.2165 - acc: 0.\n",
      "Epoch 48/50\n",
      "27827/27827 [==============================] - 36s 1ms/step - loss: 0.2074 - acc: 0.9236 - val_loss: 1.2061 - val_acc: 0.7632- ETA: 13s - loss: 0.19 - - ETA: 11s - loss: 0.2003 - acc - ETA: 11s - loss:  - ETA:  - ETA: 10s  - ETA: 8s - loss: 0.2022 - acc: 0. - ETA: 8s - loss: 0.2032 - acc - ET - ETA: 0s - loss: 0.2072 \n",
      "Epoch 49/50\n",
      "27827/27827 [==============================] - 36s 1ms/step - loss: 0.2083 - acc: 0.9229 - val_loss: 1.3342 - val_acc: 0.7627  - ETA: 13s -  - ETA: 12s - loss: 0.2080 - ETA: 12s -  - ETA: 11s - loss:  - ETA: 10s - loss:  - ETA: 10s - loss: 0.2089 - ETA: 9s - loss: 0.2 - ETA: 8s - loss: \n",
      "Epoch 50/50\n",
      "27827/27827 [==============================] - 36s 1ms/step - loss: 0.2073 - acc: 0.9241 - val_loss: 1.3711 - val_acc: 0.7532s: 0.2056 - acc:  - ETA: 10s - loss: 0.2053 - acc:  - ETA:  - ETA: 9s - loss:  - ETA: 8s - loss: 0.206 - ETA: 7s - l - ETA: 5s - loss: 0.20 - ETA: 4s - loss: 0.2053 - - ETA: 1s - loss: 0.2068  - ETA: 0s - loss: 0.2071 - acc - ETA: 0s - loss: 0.2071 - acc: 0\n",
      "11233/11233 [==============================] - 5s 428us/step\n",
      "**************************************************\n",
      "Validation Accuracy: 75.32%\n",
      "Validation Loss: 1.371127143087877\n"
     ]
    },
    {
     "data": {
      "image/png": "[encoded data removed]",
      "text/plain": [
       "<Figure size 432x288 with 2 Axes>"
      ]
     },
     "metadata": {},
     "output_type": "display_data"
    }
   ],
   "source": [
    "train_top_model()"
   ]
  },
  {
   "cell_type": "code",
   "execution_count": null,
   "metadata": {},
   "outputs": [],
   "source": []
  },
  {
   "cell_type": "code",
   "execution_count": null,
   "metadata": {},
   "outputs": [],
   "source": []
  },
  {
   "cell_type": "code",
   "execution_count": null,
   "metadata": {},
   "outputs": [],
   "source": []
  },
  {
   "cell_type": "code",
   "execution_count": null,
   "metadata": {},
   "outputs": [],
   "source": []
  },
  {
   "cell_type": "code",
   "execution_count": null,
   "metadata": {},
   "outputs": [],
   "source": []
  },
  {
   "cell_type": "code",
   "execution_count": null,
   "metadata": {},
   "outputs": [],
   "source": []
  },
  {
   "cell_type": "code",
   "execution_count": null,
   "metadata": {},
   "outputs": [],
   "source": []
  }
 ],
 "metadata": {
  "kernelspec": {
   "display_name": "Python 3",
   "language": "python",
   "name": "python3"
  },
  "language_info": {
   "codemirror_mode": {
    "name": "ipython",
    "version": 3
   },
   "file_extension": ".py",
   "mimetype": "text/x-python",
   "name": "python",
   "nbconvert_exporter": "python",
   "pygments_lexer": "ipython3",
   "version": "3.6.5"
  }
 },
 "nbformat": 4,
 "nbformat_minor": 2
}
