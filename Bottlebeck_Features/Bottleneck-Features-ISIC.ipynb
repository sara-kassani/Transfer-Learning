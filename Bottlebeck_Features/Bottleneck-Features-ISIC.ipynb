{
 "cells": [
  {
   "cell_type": "code",
   "execution_count": 1,
   "metadata": {},
   "outputs": [],
   "source": [
    "import warnings\n",
    "warnings.filterwarnings('always')\n",
    "warnings.filterwarnings('ignore')"
   ]
  },
  {
   "cell_type": "code",
   "execution_count": 2,
   "metadata": {},
   "outputs": [
    {
     "name": "stderr",
     "output_type": "stream",
     "text": [
      "Using TensorFlow backend.\n"
     ]
    }
   ],
   "source": [
    "import os\n",
    "import math\n",
    "import numpy as np\n",
    "\n",
    "from keras.preprocessing.image import ImageDataGenerator, img_to_array, load_img\n",
    "from keras.models import Sequential\n",
    "from keras import optimizers\n",
    "from keras.layers import Dropout, Flatten, Dense\n",
    "from keras import applications\n",
    "from keras.utils.np_utils import to_categorical\n",
    "\n",
    "import matplotlib.pyplot as plt\n",
    "%matplotlib inline"
   ]
  },
  {
   "cell_type": "code",
   "execution_count": 3,
   "metadata": {},
   "outputs": [],
   "source": [
    "train_dir = 'data-ISIC/train/'\n",
    "# validation_dir = 'data-ISIC/validation'\n",
    "test_dir = 'data-ISIC/test'"
   ]
  },
  {
   "cell_type": "code",
   "execution_count": 4,
   "metadata": {},
   "outputs": [
    {
     "name": "stdout",
     "output_type": "stream",
     "text": [
      "data-ISIC/train/ 0\n",
      "data-ISIC/train/AKIEC 3856\n",
      "data-ISIC/train/BCC 4773\n",
      "data-ISIC/train/BKL 3275\n",
      "data-ISIC/train/DF 4152\n",
      "data-ISIC/train/MEL 3308\n",
      "data-ISIC/train/NV 4975\n",
      "data-ISIC/train/VASC 3488\n",
      "******************************\n",
      "data-ISIC/test 0\n",
      "data-ISIC/test\\AKIEC 1552\n",
      "data-ISIC/test\\BCC 1692\n",
      "data-ISIC/test\\BKL 1479\n",
      "data-ISIC/test\\DF 1632\n",
      "data-ISIC/test\\MEL 1664\n",
      "data-ISIC/test\\NV 1730\n",
      "data-ISIC/test\\VASC 1484\n"
     ]
    }
   ],
   "source": [
    "for root,dirs,files in os.walk(train_dir):\n",
    "    print (root, len(files))\n",
    "\n",
    "# print(\"*\"*30)\n",
    "# for root,dirs,files in os.walk(validation_dir):\n",
    "#     print (root, len(files))\n",
    "    \n",
    "print(\"*\"*30)\n",
    "for root,dirs,files in os.walk(test_dir):\n",
    "    print (root, len(files))"
   ]
  },
  {
   "cell_type": "code",
   "execution_count": 5,
   "metadata": {},
   "outputs": [],
   "source": [
    "output_classes = 7\n",
    "batch_size = 4\n",
    "img_height, img_width = 224, 224\n",
    "input_shape = (img_height, img_width, 3)\n",
    "epochs = 50\n",
    "\n",
    "top_model_weights_path = 'bottleneck_fc_model.h5'\n",
    "\n",
    "nb_train_samples = sum([len(files) for r, d, files in os.walk(train_dir)])\n",
    "# nb_validation_samples = sum([len(files) for r, d, files in os.walk(validation_dir)])\n",
    "nb_test_samples = sum([len(files) for r, d, files in os.walk(test_dir)])"
   ]
  },
  {
   "cell_type": "code",
   "execution_count": 6,
   "metadata": {},
   "outputs": [
    {
     "name": "stdout",
     "output_type": "stream",
     "text": [
      "Found 27827 images belonging to 7 classes.\n",
      "Found 11233 images belonging to 7 classes.\n"
     ]
    }
   ],
   "source": [
    "random_seed = np.random.seed(1142)\n",
    "\n",
    "train_datagen = ImageDataGenerator(\n",
    "    rescale=1. / 255,\n",
    "    featurewise_center=True,\n",
    "    featurewise_std_normalization=True)\n",
    "\n",
    "train_generator = train_datagen.flow_from_directory(\n",
    "    train_dir,\n",
    "    target_size=(img_height, img_width),\n",
    "    batch_size=batch_size,\n",
    "    seed = random_seed,\n",
    "    shuffle = False,\n",
    "    class_mode='categorical')\n",
    "\n",
    "validation_generator = train_datagen.flow_from_directory(\n",
    "    test_dir,\n",
    "    target_size=(img_height, img_width),\n",
    "    batch_size=batch_size,\n",
    "    seed = random_seed,\n",
    "    shuffle = False,\n",
    "    class_mode='categorical')\n",
    "\n",
    "# test_datagen = ImageDataGenerator(rescale=1. / 255)\n",
    "\n",
    "# test_generator = test_datagen.flow_from_directory(\n",
    "#     test_dir,\n",
    "#     target_size=(img_height, img_width),\n",
    "#     batch_size=batch_size,\n",
    "#     seed = random_seed,\n",
    "#     shuffle = False,\n",
    "#     class_mode='categorical')"
   ]
  },
  {
   "cell_type": "code",
   "execution_count": 8,
   "metadata": {},
   "outputs": [],
   "source": [
    "nb_train_samples = len(train_generator.filenames)\n",
    "nb_validation_samples = len(validation_generator.filenames)\n",
    "\n",
    "num_classes = len(train_generator.class_indices)\n",
    "\n",
    "predict_size_train = int(math.ceil(nb_train_samples / batch_size))\n",
    "predict_size_validation = int(math.ceil(nb_validation_samples / batch_size))"
   ]
  },
  {
   "cell_type": "code",
   "execution_count": 9,
   "metadata": {},
   "outputs": [],
   "source": [
    "def save_bottlebeck_features():\n",
    "    # build the VGG16 network\n",
    "    model = applications.VGG16(include_top=False, weights='imagenet')\n",
    "    # print(model.summary())\n",
    "\n",
    "    bottleneck_features_train = model.predict_generator(train_generator, predict_size_train)\n",
    "    bottleneck_features_validation = model.predict_generator(validation_generator, predict_size_validation)\n",
    "    \n",
    "    np.save('bottleneck_features_train.npy', bottleneck_features_train)\n",
    "    np.save('bottleneck_features_validation.npy', bottleneck_features_validation)"
   ]
  },
  {
   "cell_type": "code",
   "execution_count": 10,
   "metadata": {},
   "outputs": [],
   "source": [
    "save_bottlebeck_features()"
   ]
  },
  {
   "cell_type": "code",
   "execution_count": 11,
   "metadata": {},
   "outputs": [],
   "source": [
    "def train_top_model():\n",
    "\n",
    "    train_data = np.load('bottleneck_features_train.npy')\n",
    "    validation_data = np.load('bottleneck_features_validation.npy')\n",
    "\n",
    "    train_labels = train_generator.classes\n",
    "    train_labels = to_categorical(train_labels, num_classes=num_classes)\n",
    "\n",
    "    validation_labels = validation_generator.classes\n",
    "    validation_labels = to_categorical(validation_labels, num_classes=num_classes)\n",
    "    \n",
    "\n",
    "    model = Sequential()\n",
    "    model.add(Flatten(input_shape=train_data.shape[1:]))\n",
    "    model.add(Dense(256, activation='relu'))\n",
    "    model.add(Dropout(0.5))\n",
    "    model.add(Dense(num_classes, activation='softmax'))\n",
    "\n",
    "    model.compile(optimizer=optimizers.Adam(lr=0.0001),loss='categorical_crossentropy', metrics=['accuracy'])\n",
    "\n",
    "    history = model.fit(train_data, train_labels,\n",
    "                        epochs=epochs,\n",
    "                        batch_size=batch_size,\n",
    "                        validation_data=(validation_data, validation_labels))\n",
    "\n",
    "    model.save_weights(top_model_weights_path)\n",
    "\n",
    "    (eval_loss, eval_accuracy) = model.evaluate(\n",
    "        validation_data, validation_labels, \n",
    "        batch_size= batch_size, \n",
    "        verbose=1)\n",
    "    \n",
    "    print (\"*\" *50)\n",
    "    print(\"Validation Accuracy: {:.2f}%\".format(eval_accuracy * 100))\n",
    "    print(\"Validation Loss: {}\".format(eval_loss))\n",
    "    \n",
    "\n",
    "    plt.figure(1)\n",
    "\n",
    "    # summarize history for accuracy\n",
    "    plt.subplot(211)\n",
    "    plt.plot(history.history['acc'])\n",
    "    plt.plot(history.history['val_acc'])\n",
    "    plt.title('model accuracy')\n",
    "    plt.ylabel('accuracy')\n",
    "    plt.xlabel('epoch')\n",
    "    plt.legend(['train', 'test'], loc='upper left')\n",
    "\n",
    "    # summarize history for loss\n",
    "    plt.subplot(212)\n",
    "    plt.plot(history.history['loss'])\n",
    "    plt.plot(history.history['val_loss'])\n",
    "    plt.title('model loss')\n",
    "    plt.ylabel('loss')\n",
    "    plt.xlabel('epoch')\n",
    "    plt.legend(['train', 'test'], loc='upper left')\n",
    "    plt.show()"
   ]
  },
  {
   "cell_type": "code",
   "execution_count": 12,
   "metadata": {
    "scrolled": false
   },
   "outputs": [
    {
     "name": "stdout",
     "output_type": "stream",
     "text": [
      "Train on 27827 samples, validate on 11233 samples\n",
      "Epoch 1/50\n",
      "27827/27827 [==============================] - 49s 2ms/step - loss: 1.4820 - acc: 0.4309 - val_loss: 1.2506 - val_acc: 0.5281\n",
      "Epoch 2/50\n",
      "27827/27827 [==============================] - 48s 2ms/step - loss: 1.1399 - acc: 0.5710 - val_loss: 1.0801 - val_acc: 0.5912oss: 1.1462 - acc:  - ETA: 2s - loss: 1.1463 - acc:  - ETA: 2s - loss: 1.14 - ETA: 1s - l\n",
      "Epoch 3/50\n",
      "27827/27827 [==============================] - 48s 2ms/step - loss: 0.9647 - acc: 0.6407 - val_loss: 1.0546 - val_acc: 0.5978\n",
      "Epoch 4/50\n",
      "27827/27827 [==============================] - 48s 2ms/step - loss: 0.8574 - acc: 0.6800 - val_loss: 0.9640 - val_acc: 0.6564 loss: 0.8571 - acc - ETA: 0s - loss: 0.8575 - acc: 0.679\n",
      "Epoch 5/50\n",
      "27827/27827 [==============================] - 48s 2ms/step - loss: 0.7677 - acc: 0.7189 - val_loss: 0.9994 - val_acc: 0.6594\n",
      "Epoch 6/50\n",
      "27827/27827 [==============================] - 48s 2ms/step - loss: 0.7081 - acc: 0.7367 - val_loss: 0.9542 - val_acc: 0.6640 - loss: 0.7073 -\n",
      "Epoch 7/50\n",
      "27827/27827 [==============================] - 48s 2ms/step - loss: 0.6600 - acc: 0.7537 - val_loss: 0.9180 - val_acc: 0.6959\n",
      "Epoch 8/50\n",
      "27827/27827 [==============================] - 48s 2ms/step - loss: 0.6205 - acc: 0.7675 - val_loss: 0.9764 - val_acc: 0.6765\n",
      "Epoch 9/50\n",
      "27827/27827 [==============================] - 48s 2ms/step - loss: 0.5871 - acc: 0.7800 - val_loss: 0.9594 - val_acc: 0.6883\n",
      "Epoch 10/50\n",
      "27827/27827 [==============================] - 48s 2ms/step - loss: 0.5651 - acc: 0.7889 - val_loss: 0.9953 - val_acc: 0.70114s  - ETA: 11s - loss: 0.5701 - a - ETA: 3s - loss: 0.5653\n",
      "Epoch 11/50\n",
      "27827/27827 [==============================] - 48s 2ms/step - loss: 0.5369 - acc: 0.7980 - val_loss: 0.9626 - val_acc: 0.7063375  - ETA: 5s  - ETA: 3s - loss: 0.5377 - acc: 0. - ETA: 3s - lo - ETA: 1s - loss: 0.5378 - ac - ETA: 1s - los\n",
      "Epoch 12/50\n",
      "27827/27827 [==============================] - 48s 2ms/step - loss: 0.5085 - acc: 0.8103 - val_loss: 1.0796 - val_acc: 0.7042\n",
      "Epoch 13/50\n",
      "27827/27827 [==============================] - 48s 2ms/step - loss: 0.4915 - acc: 0.8141 - val_loss: 1.1205 - val_acc: 0.6982 ETA: 2s - loss: 0.4910 - acc: 0.8 - ETA:\n",
      "Epoch 14/50\n",
      "27827/27827 [==============================] - 48s 2ms/step - loss: 0.4813 - acc: 0.8187 - val_loss: 1.0441 - val_acc: 0.7176- ETA: 9s - loss: 0.4831 - acc: 0.818 - ETA: 9s - loss: 0.4832 - acc:  - ETA: 1s - loss: 0.4815  - ETA: 0s - loss: 0.4812\n",
      "Epoch 15/50\n",
      "27827/27827 [==============================] - 48s 2ms/step - loss: 0.4654 - acc: 0.8241 - val_loss: 1.1160 - val_acc: 0.7127\n",
      "Epoch 16/50\n",
      "27827/27827 [==============================] - 48s 2ms/step - loss: 0.4439 - acc: 0.8299 - val_loss: 1.0500 - val_acc: 0.7301\n",
      "Epoch 17/50\n",
      "27827/27827 [==============================] - 48s 2ms/step - loss: 0.4373 - acc: 0.8342 - val_loss: 0.9793 - val_acc: 0.7394\n",
      "Epoch 18/50\n",
      "27827/27827 [==============================] - 48s 2ms/step - loss: 0.4197 - acc: 0.8398 - val_loss: 1.2627 - val_acc: 0.7047- ETA: 10s - los - ETA: 6s - loss: 0.4188 - acc:  - ETA: 6s - loss: 0.4191 - acc: 0.83 - ETA: 6s - loss: 0.4192 - - ETA: 5s - loss: 0.4192 - a - ETA: 4s - loss: 0.4185 - - ETA: 1s -\n",
      "Epoch 19/50\n",
      "27827/27827 [==============================] - 48s 2ms/step - loss: 0.4107 - acc: 0.8430 - val_loss: 1.3091 - val_acc: 0.7079ss: 0.4103 - acc: 0. - ETA: 7s - loss: 0.4100 - acc: 0 - ETA: 7s - loss: 0.4104 - a - ETA: 6s - loss: 0.4099 - acc: 0.84 - ETA: 6s - loss: 0.4097 - acc: - ETA: 6s - loss: 0.4098 - acc: 0.8 - ETA: 6s - l - ETA: 4s - loss: 0.4 -  - ETA: 1s - loss: 0\n",
      "Epoch 20/50\n",
      "27827/27827 [==============================] - 48s 2ms/step - loss: 0.4092 - acc: 0.8431 - val_loss: 1.1376 - val_acc: 0.7314s: 0.4092  - ET - ETA: 0s - loss: 0.4093 - \n",
      "Epoch 21/50\n",
      "27827/27827 [==============================] - 48s 2ms/step - loss: 0.3928 - acc: 0.8496 - val_loss: 1.1873 - val_acc: 0.7404\n",
      "Epoch 22/50\n",
      "27827/27827 [==============================] - 48s 2ms/step - loss: 0.3813 - acc: 0.8528 - val_loss: 1.1474 - val_acc: 0.7360\n",
      "Epoch 23/50\n",
      "27827/27827 [==============================] - 48s 2ms/step - loss: 0.3725 - acc: 0.8551 - val_loss: 1.2969 - val_acc: 0.7241\n",
      "Epoch 24/50\n",
      "27827/27827 [==============================] - 48s 2ms/step - loss: 0.3715 - acc: 0.8563 - val_loss: 1.1424 - val_acc: 0.7523\n",
      "Epoch 25/50\n",
      "27827/27827 [==============================] - 48s 2ms/step - loss: 0.3668 - acc: 0.8573 - val_loss: 1.3146 - val_acc: 0.7311\n",
      "Epoch 26/50\n",
      "27827/27827 [==============================] - 48s 2ms/step - loss: 0.3512 - acc: 0.8628 - val_loss: 1.2874 - val_acc: 0.7522\n",
      "Epoch 27/50\n",
      "27827/27827 [==============================] - 48s 2ms/step - loss: 0.3536 - acc: 0.8629 - val_loss: 1.1941 - val_acc: 0.7449\n",
      "Epoch 28/50\n",
      "27827/27827 [==============================] - 48s 2ms/step - loss: 0.3438 - acc: 0.8667 - val_loss: 1.1145 - val_acc: 0.7471\n",
      "Epoch 29/50\n",
      "27827/27827 [==============================] - 48s 2ms/step - loss: 0.3317 - acc: 0.8732 - val_loss: 1.2332 - val_acc: 0.7578\n",
      "Epoch 30/50\n",
      "27827/27827 [==============================] - 48s 2ms/step - loss: 0.3386 - acc: 0.8689 - val_loss: 1.3803 - val_acc: 0.7223\n",
      "Epoch 31/50\n",
      "27827/27827 [==============================] - 48s 2ms/step - loss: 0.3252 - acc: 0.8715 - val_loss: 1.5275 - val_acc: 0.7294\n",
      "Epoch 32/50\n",
      "27827/27827 [==============================] - 48s 2ms/step - loss: 0.3242 - acc: 0.8737 - val_loss: 1.2409 - val_acc: 0.7336\n",
      "Epoch 33/50\n",
      "27827/27827 [==============================] - 48s 2ms/step - loss: 0.3160 - acc: 0.8777 - val_loss: 1.3070 - val_acc: 0.7526\n",
      "Epoch 34/50\n",
      "27827/27827 [==============================] - 48s 2ms/step - loss: 0.3139 - acc: 0.8775 - val_loss: 1.3522 - val_acc: 0.7470\n",
      "Epoch 35/50\n",
      "27827/27827 [==============================] - 48s 2ms/step - loss: 0.3126 - acc: 0.8784 - val_loss: 1.4606 - val_acc: 0.727031 - ETA: 2s - loss: 0.3137 - acc: 0.877 - ET\n",
      "Epoch 36/50\n",
      "27827/27827 [==============================] - 49s 2ms/step - loss: 0.3079 - acc: 0.8797 - val_loss: 1.5076 - val_acc: 0.7238ss: 0.3073 - ac - ETA: 6s - loss: 0.307 - ETA: 5s - loss: 0.3068 - acc - ETA: 5s - loss: 0.3069 - acc: 0. - ETA: 5s - loss: 0.3069  - ETA: 4s - loss: 0.3077 - acc: 0.880 - ETA: 4s - loss: 0.3076 - acc: 0  - ETA: 1s - l\n",
      "Epoch 37/50\n",
      "27827/27827 [==============================] - 48s 2ms/step - loss: 0.3069 - acc: 0.8818 - val_loss: 1.1566 - val_acc: 0.7643- ETA: 6s  - E\n",
      "Epoch 38/50\n",
      "27827/27827 [==============================] - 48s 2ms/step - loss: 0.2984 - acc: 0.8835 - val_loss: 1.2072 - val_acc: 0.76217 - acc: 0.88 - ETA:  - ETA: 10s - loss: 0.3012 - acc: 0.88 - ETA: 1\n",
      "Epoch 39/50\n",
      "27827/27827 [==============================] - 48s 2ms/step - loss: 0.2975 - acc: 0.8848 - val_loss: 1.3534 - val_acc: 0.7616 loss: 0.2949 - acc:  - ETA: 8s - loss: 0.2 - ETA: 7s - l - ETA: 5s - loss: 0.2941 - acc - ETA: 5s - loss - ETA: 3s - loss\n",
      "Epoch 40/50\n",
      "27827/27827 [==============================] - 49s 2ms/step - loss: 0.2930 - acc: 0.8854 - val_loss: 1.4056 - val_acc: 0.7498\n",
      "Epoch 41/50\n",
      "27827/27827 [==============================] - 49s 2ms/step - loss: 0.2892 - acc: 0.8871 - val_loss: 1.3717 - val_acc: 0.7612\n",
      "Epoch 42/50\n",
      "27827/27827 [==============================] - 48s 2ms/step - loss: 0.2787 - acc: 0.8915 - val_loss: 1.4273 - val_acc: 0.7559\n",
      "Epoch 43/50\n",
      "27827/27827 [==============================] - 48s 2ms/step - loss: 0.2772 - acc: 0.8910 - val_loss: 1.6650 - val_acc: 0.7250\n",
      "Epoch 44/50\n",
      "27827/27827 [==============================] - 48s 2ms/step - loss: 0.2838 - acc: 0.8894 - val_loss: 1.5347 - val_acc: 0.7229\n",
      "Epoch 45/50\n",
      "27827/27827 [==============================] - 49s 2ms/step - loss: 0.2757 - acc: 0.8934 - val_loss: 1.3015 - val_acc: 0.7580\n",
      "Epoch 46/50\n",
      "27827/27827 [==============================] - 48s 2ms/step - loss: 0.2743 - acc: 0.8916 - val_loss: 1.3650 - val_acc: 0.7526\n",
      "Epoch 47/50\n",
      "27827/27827 [==============================] - 48s 2ms/step - loss: 0.2736 - acc: 0.8962 - val_loss: 1.5421 - val_acc: 0.7533\n",
      "Epoch 48/50\n",
      "27827/27827 [==============================] - 48s 2ms/step - loss: 0.2637 - acc: 0.8974 - val_loss: 1.5261 - val_acc: 0.7525\n",
      "Epoch 49/50\n",
      "27827/27827 [==============================] - 48s 2ms/step - loss: 0.2669 - acc: 0.8946 - val_loss: 1.4854 - val_acc: 0.7603\n",
      "Epoch 50/50\n",
      "27827/27827 [==============================] - 48s 2ms/step - loss: 0.2630 - acc: 0.8974 - val_loss: 1.6005 - val_acc: 0.7462\n",
      "11233/11233 [==============================] - 4s 395us/step\n",
      "**************************************************\n",
      "Validation Accuracy: 74.62%\n",
      "Validation Loss: 1.6005158030405047\n"
     ]
    },
    {
     "data": {
      "image/png": "[encoded data removed]",
      "text/plain": [
       "<Figure size 432x288 with 2 Axes>"
      ]
     },
     "metadata": {},
     "output_type": "display_data"
    }
   ],
   "source": [
    "train_top_model()"
   ]
  },
  {
   "cell_type": "code",
   "execution_count": null,
   "metadata": {},
   "outputs": [],
   "source": []
  },
  {
   "cell_type": "code",
   "execution_count": null,
   "metadata": {},
   "outputs": [],
   "source": []
  },
  {
   "cell_type": "code",
   "execution_count": null,
   "metadata": {},
   "outputs": [],
   "source": []
  },
  {
   "cell_type": "code",
   "execution_count": null,
   "metadata": {},
   "outputs": [],
   "source": []
  },
  {
   "cell_type": "code",
   "execution_count": null,
   "metadata": {},
   "outputs": [],
   "source": []
  },
  {
   "cell_type": "code",
   "execution_count": null,
   "metadata": {},
   "outputs": [],
   "source": []
  },
  {
   "cell_type": "code",
   "execution_count": null,
   "metadata": {},
   "outputs": [],
   "source": []
  }
 ],
 "metadata": {
  "kernelspec": {
   "display_name": "Python 3",
   "language": "python",
   "name": "python3"
  },
  "language_info": {
   "codemirror_mode": {
    "name": "ipython",
    "version": 3
   },
   "file_extension": ".py",
   "mimetype": "text/x-python",
   "name": "python",
   "nbconvert_exporter": "python",
   "pygments_lexer": "ipython3",
   "version": "3.6.5"
  }
 },
 "nbformat": 4,
 "nbformat_minor": 2
}
